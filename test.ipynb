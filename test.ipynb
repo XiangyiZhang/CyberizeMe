{
 "cells": [
  {
   "cell_type": "code",
   "execution_count": 1,
   "metadata": {},
   "outputs": [],
   "source": [
    "import Session\n",
    "from InfoCollector import InfoCollector\n",
    "from InfoUpdater import InfoUpdater\n",
    "from Replier import Replier\n",
    "import os \n",
    "from langchain.chat_models import ChatOpenAI\n",
    "from langchain.vectorstores import Chroma\n",
    "from langchain.embeddings.openai import OpenAIEmbeddings"
   ]
  },
  {
   "cell_type": "code",
   "execution_count": 2,
   "metadata": {},
   "outputs": [],
   "source": [
    "import requests\n",
    "\n",
    "def send_chat_message(message, sender):\n",
    "    url = 'http://localhost:5000/api/chat'\n",
    "    data = {'message': message, 'sender': sender}\n",
    "    response = requests.post(url, json=data)\n",
    "    if response.status_code == 200:\n",
    "        return response.json()['response']\n",
    "    else:\n",
    "        return 'Error'\n"
   ]
  },
  {
   "cell_type": "code",
   "execution_count": 3,
   "metadata": {},
   "outputs": [
    {
     "name": "stdout",
     "output_type": "stream",
     "text": [
      "Server response: Error\n"
     ]
    }
   ],
   "source": [
    "sender = 'Dean'\n",
    "agent_name = 'Sam'\n",
    "message = 'what is going on in the town?'\n",
    "response = send_chat_message(message, sender)\n",
    "print('Server response:', response)"
   ]
  },
  {
   "cell_type": "code",
   "execution_count": 4,
   "metadata": {},
   "outputs": [
    {
     "name": "stdout",
     "output_type": "stream",
     "text": [
      "\n",
      "\n",
      "\u001b[1m> Entering new  chain...\u001b[0m\n",
      "\n",
      "\u001b[1m> Finished chain.\u001b[0m\n"
     ]
    },
    {
     "name": "stderr",
     "output_type": "stream",
     "text": [
      "100%|██████████| 1/1 [00:00<00:00,  1.18it/s]\n"
     ]
    }
   ],
   "source": [
    "OPENAI_API_KEY=''\n",
    "llm=ChatOpenAI(openai_api_key=OPENAI_API_KEY, temperature=1, model=\"gpt-3.5-turbo-0613\")\n",
    "updater = InfoUpdater(llm=llm, agent_name=agent_name, sender=sender)\n",
    "#replier=Replier(llm=llm, agent_name=agent_name,sender=sender)\n",
    "chat = \"\"\"\n",
    "Sam: Hey Dean, how's it going?\n",
    "\n",
    "Dean: Not too bad, Sammy. Just another day in the life of a hunter. How about you?\n",
    "\n",
    "Sam: I'm doing alright. Been researching some cases, trying to find our next hunt. Anything catch your eye recently?\n",
    "\n",
    "Dean: Well, there have been reports of some strange disappearances in a small town nearby. People are vanishing without a trace. Sounds like a classic case for the Winchester brothers.\n",
    "\n",
    "Sam: That does sound interesting. We should definitely check it out. Any leads so far?\n",
    "\n",
    "Dean: Not yet, but I've got a good feeling about this one. I've packed the Impala with all our gear, so we're ready to hit the road whenever you are.\n",
    "\n",
    "Sam: Great, let's head out tomorrow morning. I'll finish up the research tonight and see if I can find any patterns or commonalities among the missing people.\n",
    "\n",
    "Dean: Sounds like a plan. And Sam, remember to grab the salt and silver bullets. We don't want to be caught off guard.\n",
    "\n",
    "Sam: Don't worry, I've got it covered. We'll be prepared for anything that comes our way.\n",
    "\n",
    "Dean: That's my little brother, always thinking ahead. Alright, let's get some rest. We've got a long day ahead of us tomorrow.\n",
    "\n",
    "Sam: Agreed. Goodnight, Dean.\n",
    "\n",
    "Dean: Goodnight, Sammy. Sleep tight. We'll take care of those disappearances in no time.\n",
    "\"\"\"\n",
    "await updater.update_thoughts(chat)\n",
    "\n"
   ]
  }
 ],
 "metadata": {
  "kernelspec": {
   "display_name": "avatar",
   "language": "python",
   "name": "python3"
  },
  "language_info": {
   "codemirror_mode": {
    "name": "ipython",
    "version": 3
   },
   "file_extension": ".py",
   "mimetype": "text/x-python",
   "name": "python",
   "nbconvert_exporter": "python",
   "pygments_lexer": "ipython3",
   "version": "3.10.0"
  },
  "orig_nbformat": 4
 },
 "nbformat": 4,
 "nbformat_minor": 2
}
